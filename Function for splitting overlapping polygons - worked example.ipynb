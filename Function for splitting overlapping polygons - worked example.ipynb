{
 "cells": [
  {
   "cell_type": "code",
   "execution_count": 56,
   "id": "43d2ec3e",
   "metadata": {},
   "outputs": [
    {
     "data": {
      "image/png": "[encoded data removed]",
      "text/plain": [
       "<Figure size 432x288 with 1 Axes>"
      ]
     },
     "metadata": {
      "needs_background": "light"
     },
     "output_type": "display_data"
    }
   ],
   "source": [
    "from shapely.geometry import Polygon,Point, LineString\n",
    "from shapely.ops import split\n",
    "from shapely.affinity import scale\n",
    "import geopandas as gpd\n",
    "polys1 = gpd.GeoSeries([Polygon([(0,0), (2,0), (2,2), (0,2)]),\n",
    "                               Polygon([(1,1), (3,1), (3,3), (1,3)])])\n",
    " \n",
    "polys2 = gpd.GeoSeries([Point([(1,2)]),Point([(2,1)]) ])\n",
    "                                  \n",
    "df1 = gpd.GeoDataFrame({'geometry': polys1, 'df1':[1,2]})\n",
    "df2 = gpd.GeoDataFrame({'geometry': polys2, 'df2':[1,2]})\n",
    "\n",
    "ax = df1.plot(color='red', alpha = 0.5)\n",
    "df2.plot(ax=ax, color='green', alpha=0.5);"
   ]
  },
  {
   "cell_type": "code",
   "execution_count": 7,
   "id": "08137e7f",
   "metadata": {},
   "outputs": [
    {
     "name": "stdout",
     "output_type": "stream",
     "text": [
      "MULTIPOINT (2 1, 1 2)\n"
     ]
    }
   ],
   "source": [
    "geom1 = df1.geometry[0]\n",
    "geom2 = df1.geometry[1]\n",
    "\n",
    "points = geom1.boundary.intersection(geom2.boundary) # multipoint\n",
    "#points = list(points) # point list\n",
    "\n",
    "print(points)\n",
    "#[<shapely.geometry.point.Point at ...>,\n",
    "# <shapely.geometry.point.Point at ...>]"
   ]
  },
  {
   "cell_type": "code",
   "execution_count": 9,
   "id": "e777d384",
   "metadata": {},
   "outputs": [
    {
     "name": "stderr",
     "output_type": "stream",
     "text": [
      "C:\\Users\\CULLEYJ\\AppData\\Local\\Temp\\ipykernel_28060\\3057437666.py:1: ShapelyDeprecationWarning: The array interface is deprecated and will no longer work in Shapely 2.0. Convert the '.coords' to a numpy array instead.\n",
      "  line = LineString(points)\n"
     ]
    }
   ],
   "source": [
    "line = LineString(points)"
   ]
  },
  {
   "cell_type": "code",
   "execution_count": 23,
   "id": "d922adc5",
   "metadata": {},
   "outputs": [
    {
     "name": "stderr",
     "output_type": "stream",
     "text": [
      "C:\\Users\\CULLEYJ\\AppData\\Local\\Temp\\ipykernel_28060\\1186536698.py:3: ShapelyDeprecationWarning: __getitem__ for multi-part geometries is deprecated and will be removed in Shapely 2.0. Use the `geoms` property to access the constituent parts of a multi-part geometry.\n",
      "  result2[1]\n"
     ]
    },
    {
     "data": {
      "image/svg+xml": [
       "<svg xmlns=\"http://www.w3.org/2000/svg\" xmlns:xlink=\"http://www.w3.org/1999/xlink\" width=\"100.0\" height=\"100.0\" viewBox=\"0.92 0.92 2.16 2.16\" preserveAspectRatio=\"xMinYMin meet\"><g transform=\"matrix(1,0,0,-1,0,4.0)\"><path fill-rule=\"evenodd\" fill=\"#66cc99\" stroke=\"#555555\" stroke-width=\"0.0432\" opacity=\"0.6\" d=\"M 1.0,2.0 L 1.0,3.0 L 3.0,3.0 L 3.0,1.0 L 2.0,1.0 L 1.0,2.0 z\" /></g></svg>"
      ],
      "text/plain": [
       "<shapely.geometry.polygon.Polygon at 0x1e8ec807520>"
      ]
     },
     "execution_count": 23,
     "metadata": {},
     "output_type": "execute_result"
    }
   ],
   "source": [
    "result1 = split(geom1, line)\n",
    "result2 = split(geom2, line)\n",
    "result2[1]\n"
   ]
  },
  {
   "cell_type": "code",
   "execution_count": 27,
   "id": "ec114c6a",
   "metadata": {},
   "outputs": [
    {
     "name": "stdout",
     "output_type": "stream",
     "text": [
      "<class 'shapely.geometry.collection.GeometryCollection'>\n"
     ]
    },
    {
     "data": {
      "text/plain": [
       "3.5"
      ]
     },
     "execution_count": 27,
     "metadata": {},
     "output_type": "execute_result"
    }
   ],
   "source": [
    "print(type(result1))\n",
    "result1.geoms[0].area"
   ]
  },
  {
   "cell_type": "code",
   "execution_count": 32,
   "id": "8481c81b",
   "metadata": {},
   "outputs": [
    {
     "name": "stdout",
     "output_type": "stream",
     "text": [
      "POLYGON ((2 1, 2 0, 0 0, 0 2, 1 2, 2 1))\n",
      "POLYGON ((1 2, 1 3, 3 3, 3 1, 2 1, 1 2))\n"
     ]
    }
   ],
   "source": [
    "if result1.geoms[0].area > result1.geoms[1].area:\n",
    "    p1 = result1.geoms[0]\n",
    "    print(p1)\n",
    "else:\n",
    "    p1 = result1.geoms[1]\n",
    "    print(p1)\n",
    "    \n",
    "if result2.geoms[0].area > result2.geoms[1].area:\n",
    "    p2 = result2.geoms[0]\n",
    "    print(p1)\n",
    "else:\n",
    "    p2 = result2.geoms[1]\n",
    "    print(p2)"
   ]
  },
  {
   "cell_type": "code",
   "execution_count": 33,
   "id": "b6114da2",
   "metadata": {},
   "outputs": [
    {
     "data": {
      "text/plain": [
       "<AxesSubplot:>"
      ]
     },
     "execution_count": 33,
     "metadata": {},
     "output_type": "execute_result"
    },
    {
     "data": {
      "image/png": "[encoded data removed]",
      "text/plain": [
       "<Figure size 432x288 with 1 Axes>"
      ]
     },
     "metadata": {
      "needs_background": "light"
     },
     "output_type": "display_data"
    }
   ],
   "source": [
    "polys3 = geopandas.GeoSeries([p1,p2])\n",
    "df3 = geopandas.GeoDataFrame({'geometry': polys3, 'df3':[1,2]})\n",
    "df3.plot(color='orange', alpha = 0.5)"
   ]
  },
  {
   "cell_type": "code",
   "execution_count": 35,
   "id": "09ea7f6e",
   "metadata": {},
   "outputs": [],
   "source": [
    "import pyodbc\n",
    "\n",
    "\n",
    "#set up SQL connection\n",
    "\n",
    "conn = pyodbc.connect('Driver={ODBC Driver 17 for SQL Server};' \n",
    "                      'Server=NE-SQL-CL1-03.kf-ext.com;' \n",
    "                      'Trusted_Connection=yes;')\n",
    "cursor = conn.cursor()\n",
    "\n"
   ]
  },
  {
   "cell_type": "code",
   "execution_count": 62,
   "id": "9e7c294a",
   "metadata": {},
   "outputs": [
    {
     "name": "stderr",
     "output_type": "stream",
     "text": [
      "C:\\Users\\CULLEYJ\\Anaconda3\\envs\\geo_env\\lib\\site-packages\\pandas\\io\\sql.py:761: UserWarning: pandas only support SQLAlchemy connectable(engine/connection) ordatabase string URI or sqlite3 DBAPI2 connectionother DBAPI2 objects are not tested, please consider using SQLAlchemy\n",
      "  warnings.warn(\n"
     ]
    }
   ],
   "source": [
    "patchSQL = ''' SELECT [OfficeCode]\n",
    "      ,[Prcnt]\n",
    "      ,[BoundaryType]\n",
    "      ,[Geom].STAsBinary() as geometry\n",
    "  FROM [GeoData].[dbo].[KFTop80PrcnBoundaries220815]\n",
    "  where BoundaryType = 'All Sales incl shared' and Prcnt = 80\n",
    "  and [OfficeCode] in ('NGH' ,'KEN') '''\n",
    "\n",
    "patch = gpd.GeoDataFrame.from_postgis(patchSQL,conn, geom_col = 'geometry', crs=\"EPSG:4326\") "
   ]
  },
  {
   "cell_type": "code",
   "execution_count": 40,
   "id": "5f056fec",
   "metadata": {},
   "outputs": [
    {
     "data": {
      "text/plain": [
       "<AxesSubplot:>"
      ]
     },
     "execution_count": 40,
     "metadata": {},
     "output_type": "execute_result"
    },
    {
     "data": {
      "image/png": "[encoded data removed]",
      "text/plain": [
       "<Figure size 432x288 with 1 Axes>"
      ]
     },
     "metadata": {
      "needs_background": "light"
     },
     "output_type": "display_data"
    }
   ],
   "source": [
    "patch.plot(alpha = 0.5)"
   ]
  },
  {
   "cell_type": "code",
   "execution_count": 63,
   "id": "cac3fab7",
   "metadata": {},
   "outputs": [
    {
     "name": "stdout",
     "output_type": "stream",
     "text": [
      "MULTIPOINT (-0.206246170105167 51.506640796758134, -0.1930134115752617 51.50988415382329)\n"
     ]
    }
   ],
   "source": [
    "patch_geom1 = patch.geometry[0]\n",
    "patch_geom2 = patch.geometry[1]\n",
    "\n",
    "patch_points = patch_geom1.boundary.intersection(patch_geom2.boundary) # multipoint\n",
    "#points = list(points) # point list\n",
    "\n",
    "print(patch_points)"
   ]
  },
  {
   "cell_type": "code",
   "execution_count": 64,
   "id": "e4a2c7b2",
   "metadata": {},
   "outputs": [
    {
     "name": "stderr",
     "output_type": "stream",
     "text": [
      "C:\\Users\\CULLEYJ\\AppData\\Local\\Temp\\ipykernel_28060\\781174459.py:1: ShapelyDeprecationWarning: The array interface is deprecated and will no longer work in Shapely 2.0. Convert the '.coords' to a numpy array instead.\n",
      "  patchline = LineString(patch_points)\n",
      "C:\\Users\\CULLEYJ\\Anaconda3\\envs\\geo_env\\lib\\site-packages\\shapely\\geometry\\linestring.py:46: ShapelyDeprecationWarning: The array interface is deprecated and will no longer work in Shapely 2.0. Convert the '.coords' to a numpy array instead.\n",
      "  ret = geos_linestring_from_py(coordinates)\n"
     ]
    },
    {
     "data": {
      "image/png": "[encoded data removed]",
      "text/plain": [
       "<Figure size 432x288 with 1 Axes>"
      ]
     },
     "metadata": {
      "needs_background": "light"
     },
     "output_type": "display_data"
    }
   ],
   "source": [
    "patchline = LineString(patch_points)\n",
    "patchline_ext = scale(patchline, xfact=2.0, yfact=2.0, origin='center')\n",
    "\n",
    "df_point = gpd.GeoDataFrame({'geometry': patch_points, 'df_point':[1,2]})\n",
    "df_line = gpd.GeoDataFrame({'geometry': patchline_ext, 'df_linet':[1]})\n",
    "\n",
    "ax = patch.plot(color='red', alpha = 0.5)\n",
    "df_line.plot(ax=ax, color='green', alpha=0.5);"
   ]
  },
  {
   "cell_type": "code",
   "execution_count": 65,
   "id": "a7658580",
   "metadata": {},
   "outputs": [
    {
     "name": "stdout",
     "output_type": "stream",
     "text": [
      "2 2\n"
     ]
    },
    {
     "name": "stderr",
     "output_type": "stream",
     "text": [
      "C:\\Users\\CULLEYJ\\AppData\\Local\\Temp\\ipykernel_28060\\2427514844.py:1: ShapelyDeprecationWarning: The array interface is deprecated and will no longer work in Shapely 2.0. Convert the '.coords' to a numpy array instead.\n",
      "  patchline = LineString(patch_points)\n",
      "C:\\Users\\CULLEYJ\\Anaconda3\\envs\\geo_env\\lib\\site-packages\\shapely\\geometry\\linestring.py:46: ShapelyDeprecationWarning: The array interface is deprecated and will no longer work in Shapely 2.0. Convert the '.coords' to a numpy array instead.\n",
      "  ret = geos_linestring_from_py(coordinates)\n"
     ]
    }
   ],
   "source": [
    "patchline = LineString(patch_points)\n",
    "patchline_ext = scale(patchline, xfact=2.0, yfact=2.0, origin='center')\n",
    "\n",
    "patch_result1 = split(patch_geom1, patchline_ext)\n",
    "patch_result2 = split(patch_geom2, patchline_ext)\n",
    "print(len(patch_result1.geoms), len(patch_result2.geoms))\n",
    "\n"
   ]
  },
  {
   "cell_type": "code",
   "execution_count": 61,
   "id": "776b5c3c",
   "metadata": {},
   "outputs": [
    {
     "name": "stdout",
     "output_type": "stream",
     "text": [
      "POLYGON ((-0.2062461701051647 51.506640796758134, -0.21107529 51.50682016, -0.2133083939552307 51.507835388183594, -0.214509 51.5183, -0.2106239944696426 51.52006912231445, -0.1952 51.5189, -0.1939492970705032 51.51854705810547, -0.1922058016061783 51.51744079589844, -0.1914125 51.516326, -0.1907082051038742 51.51522445678711, -0.1905909031629562 51.512001037597656, -0.1926283985376358 51.51004409790039, -0.1930134115752708 51.50988415382329, -0.2062461701051647 51.506640796758134))\n"
     ]
    },
    {
     "data": {
      "text/plain": [
       "<AxesSubplot:>"
      ]
     },
     "execution_count": 61,
     "metadata": {},
     "output_type": "execute_result"
    },
    {
     "data": {
      "image/png": "[encoded data removed]",
      "text/plain": [
       "<Figure size 432x288 with 1 Axes>"
      ]
     },
     "metadata": {
      "needs_background": "light"
     },
     "output_type": "display_data"
    }
   ],
   "source": [
    "if patch_result1.geoms[0].area > patch_result1.geoms[1].area:\n",
    "    pp1 = patch_result1.geoms[0]\n",
    "else:\n",
    "    pp1 = patch_result1.geoms[1]\n",
    "    \n",
    "if patch_result2.geoms[0].area > patch_result2.geoms[1].area:\n",
    "    pp2 = patch_result2.geoms[0]\n",
    "else:\n",
    "    pp2 = patch_result2.geoms[1]\n",
    "    print(pp2)\n",
    "    \n",
    "polys = geopandas.GeoSeries([pp1,pp2])\n",
    "df4 = geopandas.GeoDataFrame({'geometry': polys, 'df4':[1,2]})\n",
    "df4.plot(color='green', alpha = 0.5)   "
   ]
  }
 ],
 "metadata": {
  "kernelspec": {
   "display_name": "geo_env",
   "language": "python",
   "name": "geo_env"
  },
  "language_info": {
   "codemirror_mode": {
    "name": "ipython",
    "version": 3
   },
   "file_extension": ".py",
   "mimetype": "text/x-python",
   "name": "python",
   "nbconvert_exporter": "python",
   "pygments_lexer": "ipython3",
   "version": "3.10.4"
  }
 },
 "nbformat": 4,
 "nbformat_minor": 5
}
