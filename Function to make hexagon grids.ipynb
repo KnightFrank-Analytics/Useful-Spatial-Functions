{
 "cells": [
  {
   "cell_type": "code",
   "execution_count": 19,
   "id": "brown-pendant",
   "metadata": {},
   "outputs": [],
   "source": [
    "import math\n",
    "import geopandas as gpd\n",
    "from shapely.geometry import Polygon\n",
    "\n",
    "def calculate_polygons(startx, starty, endx, endy, radius, CRS = \"\"):\n",
    "    \"\"\" \n",
    "    Calculate a grid of hexagon coordinates of the given radius\n",
    "    given lower-left and upper-right coordinates \n",
    "    Returns a list of lists containing 6 tuples of x, y point coordinates\n",
    "    These can be used to construct valid regular hexagonal polygons\n",
    "    \n",
    "    You will probably want to use projected coordinates for this\n",
    "    \"\"\"\n",
    "\n",
    "    \n",
    "    # calculate side length given radius   \n",
    "    sl = (2 * radius) * math.tan(math.pi / 6)\n",
    "    # calculate radius for a given side-length\n",
    "    # (a * (math.cos(math.pi / 6) / math.sin(math.pi / 6)) / 2)\n",
    "    # see http://www.calculatorsoup.com/calculators/geometry-plane/polygon.php\n",
    "    \n",
    "    # calculate coordinates of the hexagon points\n",
    "    # sin(30)\n",
    "    p = sl * 0.5\n",
    "    b = sl * math.cos(math.radians(30))\n",
    "    w = b * 2\n",
    "    h = 2 * sl\n",
    "    \n",
    "    # offset start and end coordinates by hex widths and heights to guarantee coverage     \n",
    "    startx = startx - w\n",
    "    starty = starty - h\n",
    "    endx = endx + w\n",
    "    endy = endy + h\n",
    "\n",
    "    origx = startx\n",
    "    origy = starty\n",
    "\n",
    "\n",
    "    # offsets for moving along and up rows\n",
    "    xoffset = b\n",
    "    yoffset = 3 * p\n",
    "\n",
    "    polygons = []\n",
    "    row = 1\n",
    "    counter = 0\n",
    "\n",
    "    while starty < endy:\n",
    "        if row % 2 == 0:\n",
    "            startx = origx + xoffset\n",
    "        else:\n",
    "            startx = origx\n",
    "        while startx < endx:\n",
    "            p1x = startx\n",
    "            p1y = starty + p\n",
    "            p2x = startx\n",
    "            p2y = starty + (3 * p)\n",
    "            p3x = startx + b\n",
    "            p3y = starty + h\n",
    "            p4x = startx + w\n",
    "            p4y = starty + (3 * p)\n",
    "            p5x = startx + w\n",
    "            p5y = starty + p\n",
    "            p6x = startx + b\n",
    "            p6y = starty\n",
    "            poly = [\n",
    "                (p1x, p1y),\n",
    "                (p2x, p2y),\n",
    "                (p3x, p3y),\n",
    "                (p4x, p4y),\n",
    "                (p5x, p5y),\n",
    "                (p6x, p6y),\n",
    "                (p1x, p1y)]\n",
    "            polygons.append(poly)\n",
    "            counter += 1\n",
    "            startx += w\n",
    "        starty += yoffset\n",
    "        row += 1\n",
    "        \n",
    "        \n",
    "    l = len(polygons)\n",
    "\n",
    "    output = []\n",
    "    for i in range(1,l):\n",
    "        p1 = Polygon(polygons[i])\n",
    "        output.append(p1)\n",
    "        \n",
    "    \n",
    "    ###Optionally set CRS   \n",
    "    if CRS == \"\":\n",
    "        #print(\"No\")\n",
    "        polygon_gdf =  gpd.GeoDataFrame(geometry=output)\n",
    "    else:\n",
    "        #print(\"Yes\")\n",
    "        polygon_gdf =  gpd.GeoDataFrame(geometry=output).set_crs(CRS)\n",
    "    \n",
    "    return polygon_gdf"
   ]
  },
  {
   "cell_type": "code",
   "execution_count": 20,
   "id": "combined-relief",
   "metadata": {
    "scrolled": true
   },
   "outputs": [
    {
     "data": {
      "text/plain": [
       "<AxesSubplot:>"
      ]
     },
     "execution_count": 20,
     "metadata": {},
     "output_type": "execute_result"
    },
    {
     "data": {
      "image/png": "[encoded data removed]",
      "text/plain": [
       "<Figure size 432x288 with 1 Axes>"
      ]
     },
     "metadata": {
      "needs_background": "light"
     },
     "output_type": "display_data"
    }
   ],
   "source": [
    "h_grid = calculate_polygons(1000, 1000, 2000, 2000, 50, CRS = \"EPSG:27700\")\n",
    "h_grid.plot()"
   ]
  }
 ],
 "metadata": {
  "kernelspec": {
   "display_name": "Python [conda env:data_sci]",
   "language": "python",
   "name": "conda-env-data_sci-py"
  },
  "language_info": {
   "codemirror_mode": {
    "name": "ipython",
    "version": 3
   },
   "file_extension": ".py",
   "mimetype": "text/x-python",
   "name": "python",
   "nbconvert_exporter": "python",
   "pygments_lexer": "ipython3",
   "version": "3.9.7"
  }
 },
 "nbformat": 4,
 "nbformat_minor": 5
}
